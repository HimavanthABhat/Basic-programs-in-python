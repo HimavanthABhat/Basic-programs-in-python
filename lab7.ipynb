{
  "nbformat": 4,
  "nbformat_minor": 0,
  "metadata": {
    "colab": {
      "provenance": [],
      "authorship_tag": "ABX9TyPvPv11YyAk1aD/DWWtiDTL",
      "include_colab_link": true
    },
    "kernelspec": {
      "name": "python3",
      "display_name": "Python 3"
    },
    "language_info": {
      "name": "python"
    }
  },
  "cells": [
    {
      "cell_type": "markdown",
      "metadata": {
        "id": "view-in-github",
        "colab_type": "text"
      },
      "source": [
        "<a href=\"https://colab.research.google.com/github/HimavanthABhat/Basic-programs-in-python/blob/main/lab7.ipynb\" target=\"_parent\"><img src=\"https://colab.research.google.com/assets/colab-badge.svg\" alt=\"Open In Colab\"/></a>"
      ]
    },
    {
      "cell_type": "code",
      "source": [
        "import re\n",
        "phoneNumber=['123-456-7897','234-000-32145','000 000 0000']\n",
        "p=re.compile(r'((\\d{3}|\\(\\d{3}\\))[\\.\\-\\s])?\\d{3}[\\.\\-\\s]\\d{4}')\n",
        "r=p.group(phoneNumber)\n",
        "if(r.group() == phoneNumber):\n",
        " print(\"valid Phone Number\")"
      ],
      "metadata": {
        "colab": {
          "base_uri": "https://localhost:8080/",
          "height": 235
        },
        "id": "yhRgynOfHNWy",
        "outputId": "0acd075e-d44c-499b-f3f6-f9061eb6a0f8"
      },
      "execution_count": 48,
      "outputs": [
        {
          "output_type": "error",
          "ename": "AttributeError",
          "evalue": "ignored",
          "traceback": [
            "\u001b[0;31m---------------------------------------------------------------------------\u001b[0m",
            "\u001b[0;31mAttributeError\u001b[0m                            Traceback (most recent call last)",
            "\u001b[0;32m<ipython-input-48-5fd5f3242395>\u001b[0m in \u001b[0;36m<module>\u001b[0;34m\u001b[0m\n\u001b[1;32m      2\u001b[0m \u001b[0mphoneNumber\u001b[0m\u001b[0;34m=\u001b[0m\u001b[0;34m[\u001b[0m\u001b[0;34m'123-456-7897'\u001b[0m\u001b[0;34m,\u001b[0m\u001b[0;34m'234-000-32145'\u001b[0m\u001b[0;34m,\u001b[0m\u001b[0;34m'000 000 0000'\u001b[0m\u001b[0;34m]\u001b[0m\u001b[0;34m\u001b[0m\u001b[0;34m\u001b[0m\u001b[0m\n\u001b[1;32m      3\u001b[0m \u001b[0mp\u001b[0m\u001b[0;34m=\u001b[0m\u001b[0mre\u001b[0m\u001b[0;34m.\u001b[0m\u001b[0mcompile\u001b[0m\u001b[0;34m(\u001b[0m\u001b[0;34mr'((\\d{3}|\\(\\d{3}\\))[\\.\\-\\s])?\\d{3}[\\.\\-\\s]\\d{4}'\u001b[0m\u001b[0;34m)\u001b[0m\u001b[0;34m\u001b[0m\u001b[0;34m\u001b[0m\u001b[0m\n\u001b[0;32m----> 4\u001b[0;31m \u001b[0mr\u001b[0m\u001b[0;34m=\u001b[0m\u001b[0mp\u001b[0m\u001b[0;34m.\u001b[0m\u001b[0mgroup\u001b[0m\u001b[0;34m(\u001b[0m\u001b[0mphoneNumber\u001b[0m\u001b[0;34m)\u001b[0m\u001b[0;34m\u001b[0m\u001b[0;34m\u001b[0m\u001b[0m\n\u001b[0m\u001b[1;32m      5\u001b[0m \u001b[0;32mif\u001b[0m\u001b[0;34m(\u001b[0m\u001b[0mr\u001b[0m\u001b[0;34m.\u001b[0m\u001b[0mgroup\u001b[0m\u001b[0;34m(\u001b[0m\u001b[0;34m)\u001b[0m \u001b[0;34m==\u001b[0m \u001b[0mphoneNumber\u001b[0m\u001b[0;34m)\u001b[0m\u001b[0;34m:\u001b[0m\u001b[0;34m\u001b[0m\u001b[0;34m\u001b[0m\u001b[0m\n\u001b[1;32m      6\u001b[0m  \u001b[0mprint\u001b[0m\u001b[0;34m(\u001b[0m\u001b[0;34m\"valid Phone Number\"\u001b[0m\u001b[0;34m)\u001b[0m\u001b[0;34m\u001b[0m\u001b[0;34m\u001b[0m\u001b[0m\n",
            "\u001b[0;31mAttributeError\u001b[0m: 're.Pattern' object has no attribute 'group'"
          ]
        }
      ]
    },
    {
      "cell_type": "code",
      "source": [
        "import re\n",
        "emailAddress=input(\"enter the Email ID\")\n",
        "p=re.compile(r'\\w+@\\w+\\.com')\n",
        "r=p.search(emailAddress)\n",
        "if(r.group() == emailAddress):\n",
        " print(\"valid Email ID\")"
      ],
      "metadata": {
        "colab": {
          "base_uri": "https://localhost:8080/"
        },
        "id": "_LoRC0qFJV_7",
        "outputId": "f0e56049-051c-4ba3-d187-4fef32dedf40"
      },
      "execution_count": 36,
      "outputs": [
        {
          "output_type": "stream",
          "name": "stdout",
          "text": [
            "enter the Email IDabhi@gmail.com\n",
            "valid Email ID\n"
          ]
        }
      ]
    },
    {
      "cell_type": "code",
      "source": [
        "l, u, p, d = 0, 0, 0, 0\n",
        "s = \"abcd\"\n",
        "capitalalphabets=[\"A-Z\"]\n",
        "smallalphabets=[\"a-z\"]\n",
        "specialchar=\"$@_\"\n",
        "digits=[\"0-9\"]\n",
        "if (len(s) >= 8):\n",
        "\tfor i in s:\t\n",
        "\t\tif (i in smallalphabets):\n",
        "\t\t\tl+=1\t\t\n",
        "\n",
        "\t\tif (i in capitalalphabets):\n",
        "\t\t\tu+=1\t\t\n",
        "\n",
        "\t\tif (i in digits):\n",
        "\t\t\td+=1\t\t\n",
        "\n",
        "\t\tif(i in specialchar):\n",
        "\t\t\tp+=1\t\n",
        "if (l>=1 and u>=1 and p>=1 and d>=1 and l+p+u+d==len(s)):\n",
        "\tprint(\"Valid Password\")\n",
        "else:\n",
        "\tprint(\"Invalid Password\")\n"
      ],
      "metadata": {
        "colab": {
          "base_uri": "https://localhost:8080/"
        },
        "id": "K_SBWKGnJ7n5",
        "outputId": "42f1a4a4-775d-4555-d2ee-4124931261e9"
      },
      "execution_count": 50,
      "outputs": [
        {
          "output_type": "stream",
          "name": "stdout",
          "text": [
            "Invalid Password\n"
          ]
        }
      ]
    },
    {
      "cell_type": "code",
      "source": [],
      "metadata": {
        "id": "7oeaZpsyXT5u"
      },
      "execution_count": null,
      "outputs": []
    },
    {
      "cell_type": "code",
      "source": [
        "import re\n",
        "text = input(' Enter the Text')\n",
        "text =text.replace (\" \", \"_\")\n",
        "print(text)\n",
        "text =text.replace (\"_\", \" \")\n",
        "print(text)\n"
      ],
      "metadata": {
        "colab": {
          "base_uri": "https://localhost:8080/"
        },
        "id": "8MC89hFiNkqG",
        "outputId": "3d0c131f-0cd5-4755-d0b4-01324a43d7cc"
      },
      "execution_count": 40,
      "outputs": [
        {
          "output_type": "stream",
          "name": "stdout",
          "text": [
            " Enter the Textise mce\n",
            "ise_mce\n",
            "ise mce\n"
          ]
        }
      ]
    },
    {
      "cell_type": "code",
      "source": [
        "import re\n",
        "def change_date_format(date):\n",
        "        return re.sub(r'(\\d{4})-(\\d{1,2})-(\\d{1,2})', '\\\\3-\\\\2-\\\\1', date)\n",
        "date1 = \"2026-01-02\"\n",
        "print(\"Original date in YYYY-MM-DD Format: \",date1)\n",
        "print(\"New date in DD-MM-YYYY Format: \",change_date_format(date1))\n"
      ],
      "metadata": {
        "colab": {
          "base_uri": "https://localhost:8080/"
        },
        "id": "VRkdfhJEO24i",
        "outputId": "8547a564-acd5-4f13-a340-4e4741d6e41a"
      },
      "execution_count": 32,
      "outputs": [
        {
          "output_type": "stream",
          "name": "stdout",
          "text": [
            "Original date in YYY-MM-DD Format:  2026-01-02\n",
            "New date in DD-MM-YYYY Format:  02-01-2026\n"
          ]
        }
      ]
    },
    {
      "cell_type": "code",
      "source": [
        "myStr = 'one two.three'\n",
        "\n",
        "result = myStr.replace(' ', ':')\n",
        "result1 = myStr.replace('.', ':')\n",
        "print(result) \n",
        "print(result1) "
      ],
      "metadata": {
        "colab": {
          "base_uri": "https://localhost:8080/"
        },
        "id": "CkJv8fHJRnP4",
        "outputId": "dfce51bc-91de-4e9b-e41b-754e01e202a6"
      },
      "execution_count": 37,
      "outputs": [
        {
          "output_type": "stream",
          "name": "stdout",
          "text": [
            "one:two.three\n",
            "one two:three\n"
          ]
        }
      ]
    }
  ]
}