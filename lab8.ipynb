{
  "nbformat": 4,
  "nbformat_minor": 0,
  "metadata": {
    "colab": {
      "provenance": [],
      "authorship_tag": "ABX9TyNDZJ1W9BgNpp+qN4Jyv46p",
      "include_colab_link": true
    },
    "kernelspec": {
      "name": "python3",
      "display_name": "Python 3"
    },
    "language_info": {
      "name": "python"
    }
  },
  "cells": [
    {
      "cell_type": "markdown",
      "metadata": {
        "id": "view-in-github",
        "colab_type": "text"
      },
      "source": [
        "<a href=\"https://colab.research.google.com/github/HimavanthABhat/Basic-programs-in-python/blob/main/lab8.ipynb\" target=\"_parent\"><img src=\"https://colab.research.google.com/assets/colab-badge.svg\" alt=\"Open In Colab\"/></a>"
      ]
    },
    {
      "cell_type": "code",
      "execution_count": 4,
      "metadata": {
        "colab": {
          "base_uri": "https://localhost:8080/"
        },
        "id": "LHMzpUxoDL1b",
        "outputId": "df732265-f505-499a-91ac-cb11a6a6e4ae"
      },
      "outputs": [
        {
          "output_type": "stream",
          "name": "stdout",
          "text": [
            "Enter the radius6\n",
            "area is113.03999999999999\n",
            "Perimeter is37.68\n"
          ]
        }
      ],
      "source": [
        "a=int(input(\"Enter the radius\"))\n",
        "area=3.14*a*a\n",
        "perimeter = 2*3.14*a\n",
        "print(\"area is\" + str(area))\n",
        "print(\"Perimeter is\" + str(perimeter))\n"
      ]
    },
    {
      "cell_type": "code",
      "source": [
        "a=int(input(\"Enter first subject marks\"))\n",
        "b=int(input(\"Enter second subject marks\"))\n",
        "c=int(input(\"Enter third subject marks\"))\n",
        "d=int(input(\"Enter fourth subject marks\"))\n",
        "e=int(input(\"Enter fifth subject marks\"))\n",
        "avg=(a+b+c+d+e)/5\n",
        "print(\"Average Marks of 5 Subject is\",avg)"
      ],
      "metadata": {
        "colab": {
          "base_uri": "https://localhost:8080/"
        },
        "id": "FqDy_i3XFpnO",
        "outputId": "31e99019-8a2c-4031-bebd-e33c5ea44952"
      },
      "execution_count": 8,
      "outputs": [
        {
          "output_type": "stream",
          "name": "stdout",
          "text": [
            "Enter first subject marks100\n",
            "Enter second subject marks100\n",
            "Enter third subject marks100\n",
            "Enter fourth subject marks100\n",
            "Enter fifth subject marks100\n",
            "Average Marks of 5 Subject is 9.803921568627452\n"
          ]
        }
      ]
    },
    {
      "cell_type": "code",
      "source": [
        "print(\"Enter the Sides\")\n",
        "a=int(input())\n",
        "b=int(input())\n",
        "c=int(input())\n",
        "s=(a+b+c)/2\n",
        "area = (s*(s-a)*(s-b)*(s-c))*0.5\n",
        "if a+b>=c:\n",
        "  print(\"It is Triangle\")\n",
        "  print(\"Area of triangle is\",area)\n",
        "else:\n",
        "  print(\"It is NOT an triangle\")\n"
      ],
      "metadata": {
        "colab": {
          "base_uri": "https://localhost:8080/"
        },
        "id": "sHWgq93iGr4V",
        "outputId": "88dab359-ff6f-4c2a-84d7-8ddfa8a7e3c0"
      },
      "execution_count": 11,
      "outputs": [
        {
          "output_type": "stream",
          "name": "stdout",
          "text": [
            "Enter the Sides\n",
            "1\n",
            "1\n",
            "1\n",
            "It is Triangle\n",
            "Area of triangle is 0.09375\n"
          ]
        }
      ]
    },
    {
      "cell_type": "code",
      "source": [
        "h1=float(input(\"Enter the height in feet\"))\n",
        "h2=float(input(\"Enter the height in inches\"))\n",
        "h=((h2*12)+h1)*2.54\n",
        "print(\"Height in cms is\",h)"
      ],
      "metadata": {
        "colab": {
          "base_uri": "https://localhost:8080/"
        },
        "id": "NpyqdiGBIK13",
        "outputId": "ffd0295f-7aef-4f6d-f35d-291b02e4854f"
      },
      "execution_count": 12,
      "outputs": [
        {
          "output_type": "stream",
          "name": "stdout",
          "text": [
            "Enter the height in feet5\n",
            "Enter the height in inches6\n",
            "Height in cms is 195.58\n"
          ]
        }
      ]
    },
    {
      "cell_type": "code",
      "source": [
        "num=input(\"Enter the Numbers\")\n",
        "sum=0\n",
        "\n",
        "for i in num:\n",
        "  print(i)\n",
        "  sum=sum+int(i)\n",
        "print(\"sum is\",sum)"
      ],
      "metadata": {
        "colab": {
          "base_uri": "https://localhost:8080/"
        },
        "id": "4Ilb9fXSPUIE",
        "outputId": "f4252272-e217-4311-b72a-dd51d838833c"
      },
      "execution_count": 15,
      "outputs": [
        {
          "output_type": "stream",
          "name": "stdout",
          "text": [
            "Enter the Numbers2356\n",
            "2\n",
            "3\n",
            "5\n",
            "6\n",
            "sum is 16\n"
          ]
        }
      ]
    },
    {
      "cell_type": "code",
      "source": [
        "units=int(input(\"Enter the Numbers of units of camera sold in a month\"))\n",
        "avg=int(input(\"Enter the average pieces of camera \"))\n",
        "sale=avg*units\n",
        "basic=25000\n",
        "bonus=200*units\n",
        "commission=(sale)*12/100\n",
        "salary=basic+bonus+commission\n",
        "print(\"Salary is \",salary)"
      ],
      "metadata": {
        "colab": {
          "base_uri": "https://localhost:8080/"
        },
        "id": "O2u1uIjWQeSw",
        "outputId": "00830410-ed4a-4618-f6bc-f015c355afc3"
      },
      "execution_count": 18,
      "outputs": [
        {
          "output_type": "stream",
          "name": "stdout",
          "text": [
            "Enter the Numbers of units of camera sold in a month5\n",
            "Enter the average pieces of camera 100\n",
            "Salary is  26060.0\n"
          ]
        }
      ]
    },
    {
      "cell_type": "code",
      "source": [
        "a=input(\"Enter String of 4 character\")\n",
        "for i in a:\n",
        "  print(i.upper())\n",
        "  print(ord(i))\n",
        "print(i)\n"
      ],
      "metadata": {
        "colab": {
          "base_uri": "https://localhost:8080/"
        },
        "id": "SZRGlqOySmhj",
        "outputId": "efd4a2b8-cb92-4289-cb43-067f0f782f29"
      },
      "execution_count": 19,
      "outputs": [
        {
          "output_type": "stream",
          "name": "stdout",
          "text": [
            "Enter String of 4 characteraaAc\n",
            "A\n",
            "97\n",
            "A\n",
            "97\n",
            "A\n",
            "65\n",
            "C\n",
            "99\n",
            "c\n"
          ]
        }
      ]
    },
    {
      "cell_type": "code",
      "source": [
        "list=[]                   \n",
        "for i in range(100,201): \n",
        "    i=str(i)            \n",
        "    sum=0                 \n",
        "    for j in i:          \n",
        "        j=int(j)         \n",
        "        sum=sum+j         \n",
        "    if sum%2==0:          \n",
        "        list.append(i)   \n",
        "print('Interger of even sum is',list)"
      ],
      "metadata": {
        "colab": {
          "base_uri": "https://localhost:8080/"
        },
        "id": "XSd_5GtkTl3P",
        "outputId": "3a281a4e-b368-4d7c-f9e9-c9285b5fdf0b"
      },
      "execution_count": 24,
      "outputs": [
        {
          "output_type": "stream",
          "name": "stdout",
          "text": [
            "Interger of even sum is ['101', '103', '105', '107', '109', '110', '112', '114', '116', '118', '121', '123', '125', '127', '129', '130', '132', '134', '136', '138', '141', '143', '145', '147', '149', '150', '152', '154', '156', '158', '161', '163', '165', '167', '169', '170', '172', '174', '176', '178', '181', '183', '185', '187', '189', '190', '192', '194', '196', '198', '200']\n"
          ]
        }
      ]
    },
    {
      "cell_type": "code",
      "source": [
        "\n",
        "\n",
        "nterms = int(input(\"Enter the numbers \"))\n",
        "\n",
        "n1, n2 = 0, 1\n",
        "count = 0\n",
        "\n",
        "if nterms <= 0:\n",
        "   print(\"Please enter a positive integer\")\n",
        "elif nterms == 1:\n",
        "   print(\"Fibonacci sequence upto\",nterms,\":\")\n",
        "   print(n1)\n",
        "else:\n",
        "   print(\"Fibonacci sequence:\")\n",
        "   while count < nterms:\n",
        "       print(n1)\n",
        "       nth = n1 + n2\n",
        "       n1 = n2\n",
        "       n2 = nth\n",
        "       count += 1"
      ],
      "metadata": {
        "colab": {
          "base_uri": "https://localhost:8080/"
        },
        "id": "dxQ7jXy2a-Ot",
        "outputId": "66a9ece2-9f23-48a6-c4f5-dd7d550176b1"
      },
      "execution_count": 30,
      "outputs": [
        {
          "output_type": "stream",
          "name": "stdout",
          "text": [
            "Enter the numbers 5\n",
            "Fibonacci sequence:\n",
            "0\n",
            "1\n",
            "1\n",
            "2\n",
            "3\n"
          ]
        }
      ]
    },
    {
      "cell_type": "code",
      "source": [
        "import cmath\n",
        "\n",
        "a = int(input())\n",
        "b = int(input())\n",
        "c = int(input())\n",
        "\n",
        "d = (b**2) - (4*a*c)\n",
        "\n",
        "sol1 = (-b-cmath.sqrt(d))/(2*a)\n",
        "sol2 = (-b+cmath.sqrt(d))/(2*a)\n",
        "\n",
        "print('The solution are {0} and {1}'.format(sol1,sol2))\n"
      ],
      "metadata": {
        "colab": {
          "base_uri": "https://localhost:8080/"
        },
        "id": "JOFveNvzbfU6",
        "outputId": "91a27826-75bd-42cb-a686-c940c249d683"
      },
      "execution_count": 32,
      "outputs": [
        {
          "output_type": "stream",
          "name": "stdout",
          "text": [
            "2\n",
            "3\n",
            "2\n",
            "The solution are (-0.75-0.6614378277661477j) and (-0.75+0.6614378277661477j)\n"
          ]
        }
      ]
    },
    {
      "cell_type": "code",
      "source": [],
      "metadata": {
        "id": "59usXcXSb6HI"
      },
      "execution_count": null,
      "outputs": []
    }
  ]
}